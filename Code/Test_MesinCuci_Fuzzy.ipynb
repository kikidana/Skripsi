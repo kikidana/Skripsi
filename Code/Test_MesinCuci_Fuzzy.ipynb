{
 "cells": [
  {
   "cell_type": "code",
   "execution_count": 1,
   "metadata": {},
   "outputs": [],
   "source": [
    "import numpy as np\n",
    "import skfuzzy as fuzz\n",
    "from skfuzzy import control as ctrl"
   ]
  },
  {
   "cell_type": "markdown",
   "metadata": {},
   "source": [
    "# Difinasi Semesta"
   ]
  },
  {
   "cell_type": "code",
   "execution_count": 2,
   "metadata": {},
   "outputs": [],
   "source": [
    "tingkat_kekotoran = ctrl.Antecedent(np.arange(0, 101, 1), 'Tingkat Kekotoran')\n",
    "banyak_pakaian = ctrl.Antecedent(np.arange(0, 101, 1), 'Banyak Pakaian')\n",
    "kecepatan_putar = ctrl.Consequent(np.arange(0, 1501, 1), 'Kecepatan Putar')"
   ]
  },
  {
   "cell_type": "markdown",
   "metadata": {},
   "source": [
    "# Fungsi Membersip"
   ]
  },
  {
   "cell_type": "code",
   "execution_count": 6,
   "metadata": {},
   "outputs": [
    {
     "ename": "AssertionError",
     "evalue": "`abc` requires a <= b <= c.",
     "output_type": "error",
     "traceback": [
      "\u001b[1;31m---------------------------------------------------------------------------\u001b[0m",
      "\u001b[1;31mAssertionError\u001b[0m                            Traceback (most recent call last)",
      "\u001b[1;32mg:\\Project\\Skripsi_GIT\\Code\\Test_MesinCuci_Fuzzy.ipynb Cell 5'\u001b[0m in \u001b[0;36m<cell line: 4>\u001b[1;34m()\u001b[0m\n\u001b[0;32m      <a href='vscode-notebook-cell:/g%3A/Project/Skripsi_GIT/Code/Test_MesinCuci_Fuzzy.ipynb#ch0000006?line=0'>1</a>\u001b[0m \u001b[39m#banyak_pakaian['sedikit'] = fuzz.trimf(banyak_pakaian.universe, [40, 40, 80]) \u001b[39;00m\n\u001b[0;32m      <a href='vscode-notebook-cell:/g%3A/Project/Skripsi_GIT/Code/Test_MesinCuci_Fuzzy.ipynb#ch0000006?line=1'>2</a>\u001b[0m \u001b[39m#banyak_pakaian['banyak'] = fuzz.trimf(banyak_pakaian.universe, [40, 80, 80])\u001b[39;00m\n\u001b[0;32m      <a href='vscode-notebook-cell:/g%3A/Project/Skripsi_GIT/Code/Test_MesinCuci_Fuzzy.ipynb#ch0000006?line=2'>3</a>\u001b[0m \u001b[39m#banyak_pakaian.view()\u001b[39;00m\n\u001b[1;32m----> <a href='vscode-notebook-cell:/g%3A/Project/Skripsi_GIT/Code/Test_MesinCuci_Fuzzy.ipynb#ch0000006?line=3'>4</a>\u001b[0m banyak_pakaian[\u001b[39m'\u001b[39m\u001b[39msedikit\u001b[39m\u001b[39m'\u001b[39m] \u001b[39m=\u001b[39m fuzz\u001b[39m.\u001b[39;49mpiecemf(banyak_pakaian\u001b[39m.\u001b[39;49muniverse, [\u001b[39m80\u001b[39;49m,\u001b[39m40\u001b[39;49m, \u001b[39m40\u001b[39;49m])\n\u001b[0;32m      <a href='vscode-notebook-cell:/g%3A/Project/Skripsi_GIT/Code/Test_MesinCuci_Fuzzy.ipynb#ch0000006?line=4'>5</a>\u001b[0m banyak_pakaian\u001b[39m.\u001b[39mview()\n",
      "File \u001b[1;32mC:\\Python39\\lib\\site-packages\\skfuzzy\\membership\\generatemf.py:180\u001b[0m, in \u001b[0;36mpiecemf\u001b[1;34m(x, abc)\u001b[0m\n\u001b[0;32m    <a href='file:///c%3A/Python39/lib/site-packages/skfuzzy/membership/generatemf.py?line=176'>177</a>\u001b[0m \u001b[39mif\u001b[39;00m c \u001b[39m!=\u001b[39m x\u001b[39m.\u001b[39mmax():\n\u001b[0;32m    <a href='file:///c%3A/Python39/lib/site-packages/skfuzzy/membership/generatemf.py?line=177'>178</a>\u001b[0m     c \u001b[39m=\u001b[39m x\u001b[39m.\u001b[39mmax()\n\u001b[1;32m--> <a href='file:///c%3A/Python39/lib/site-packages/skfuzzy/membership/generatemf.py?line=179'>180</a>\u001b[0m \u001b[39massert\u001b[39;00m a \u001b[39m<\u001b[39m\u001b[39m=\u001b[39m b \u001b[39mand\u001b[39;00m b \u001b[39m<\u001b[39m\u001b[39m=\u001b[39m c, \u001b[39m'\u001b[39m\u001b[39m`abc` requires a <= b <= c.\u001b[39m\u001b[39m'\u001b[39m\n\u001b[0;32m    <a href='file:///c%3A/Python39/lib/site-packages/skfuzzy/membership/generatemf.py?line=181'>182</a>\u001b[0m n \u001b[39m=\u001b[39m \u001b[39mlen\u001b[39m(x)\n\u001b[0;32m    <a href='file:///c%3A/Python39/lib/site-packages/skfuzzy/membership/generatemf.py?line=182'>183</a>\u001b[0m y \u001b[39m=\u001b[39m np\u001b[39m.\u001b[39mzeros(n)\n",
      "\u001b[1;31mAssertionError\u001b[0m: `abc` requires a <= b <= c."
     ]
    }
   ],
   "source": [
    "#banyak_pakaian['sedikit'] = fuzz.trimf(banyak_pakaian.universe, [40, 40, 80]) \n",
    "#banyak_pakaian['banyak'] = fuzz.trimf(banyak_pakaian.universe, [40, 80, 80])\n",
    "#banyak_pakaian.view()\n",
    "banyak_pakaian['sedikit'] = fuzz.piecemf(banyak_pakaian.universe, [80, 40])\n",
    "banyak_pakaian.view()"
   ]
  }
 ],
 "metadata": {
  "interpreter": {
   "hash": "63fd5069d213b44bf678585dea6b12cceca9941eaf7f819626cde1f2670de90d"
  },
  "kernelspec": {
   "display_name": "Python 3.9.7 64-bit",
   "language": "python",
   "name": "python3"
  },
  "language_info": {
   "codemirror_mode": {
    "name": "ipython",
    "version": 3
   },
   "file_extension": ".py",
   "mimetype": "text/x-python",
   "name": "python",
   "nbconvert_exporter": "python",
   "pygments_lexer": "ipython3",
   "version": "3.9.7"
  },
  "orig_nbformat": 4
 },
 "nbformat": 4,
 "nbformat_minor": 2
}
